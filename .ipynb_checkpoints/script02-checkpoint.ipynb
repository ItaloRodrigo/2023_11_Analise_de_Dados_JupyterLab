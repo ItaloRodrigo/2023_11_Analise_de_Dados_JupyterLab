{
 "cells": [
  {
   "cell_type": "markdown",
   "id": "4d1b7ae3-1f5b-49db-a005-4e5b91fc4bb2",
   "metadata": {},
   "source": [
    "# Sessão 1"
   ]
  },
  {
   "cell_type": "code",
   "execution_count": 1,
   "id": "f49c7649-3840-447d-919c-3d19c9a504ec",
   "metadata": {},
   "outputs": [],
   "source": [
    "nomes = [\"João\", \"Maria\", \"Benício\"]"
   ]
  },
  {
   "cell_type": "code",
   "execution_count": null,
   "id": "a021ff39-bb67-43c6-80ae-fd82e18ae9e0",
   "metadata": {},
   "outputs": [],
   "source": []
  }
 ],
 "metadata": {
  "kernelspec": {
   "display_name": "Python 3 (ipykernel)",
   "language": "python",
   "name": "python3"
  },
  "language_info": {
   "codemirror_mode": {
    "name": "ipython",
    "version": 3
   },
   "file_extension": ".py",
   "mimetype": "text/x-python",
   "name": "python",
   "nbconvert_exporter": "python",
   "pygments_lexer": "ipython3",
   "version": "3.10.1"
  }
 },
 "nbformat": 4,
 "nbformat_minor": 5
}
