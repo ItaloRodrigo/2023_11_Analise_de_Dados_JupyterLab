{
 "cells": [
  {
   "cell_type": "markdown",
   "id": "884d5b9a-ff9a-4415-96bb-c8316bd15c90",
   "metadata": {},
   "source": [
    "# Sessão 1"
   ]
  },
  {
   "cell_type": "code",
   "execution_count": 5,
   "id": "e789a01f-8fc2-4971-b233-53af382a6d48",
   "metadata": {},
   "outputs": [],
   "source": [
    "x = 1"
   ]
  },
  {
   "cell_type": "code",
   "execution_count": 6,
   "id": "e64e0b5c-16ee-4d0e-91f5-c7bfd906bbcc",
   "metadata": {},
   "outputs": [],
   "source": [
    "y = 2"
   ]
  },
  {
   "cell_type": "code",
   "execution_count": 7,
   "id": "29adc7fb-2c52-425f-8ac5-c146e98100da",
   "metadata": {},
   "outputs": [
    {
     "name": "stdout",
     "output_type": "stream",
     "text": [
      "3\n"
     ]
    }
   ],
   "source": [
    "print(x+y)"
   ]
  },
  {
   "cell_type": "markdown",
   "id": "154a3a00-a84a-456e-ad2b-b1413efb9d7d",
   "metadata": {},
   "source": [
    "# Sessão 2"
   ]
  },
  {
   "cell_type": "code",
   "execution_count": 9,
   "id": "cec1328d-7c74-41fd-83e2-5679fd0af58d",
   "metadata": {},
   "outputs": [],
   "source": [
    "z =3"
   ]
  },
  {
   "cell_type": "code",
   "execution_count": 10,
   "id": "2956f3f9-f72b-4e33-99e1-0e65f54385dd",
   "metadata": {},
   "outputs": [
    {
     "name": "stdout",
     "output_type": "stream",
     "text": [
      "6\n"
     ]
    }
   ],
   "source": [
    "print (x+y+z)"
   ]
  },
  {
   "cell_type": "code",
   "execution_count": null,
   "id": "0fdb0177-6da1-4a38-b4b6-32ab1cd35da9",
   "metadata": {},
   "outputs": [],
   "source": []
  },
  {
   "cell_type": "code",
   "execution_count": null,
   "id": "ed4f7023-ddfb-4078-a253-64bb203a3b73",
   "metadata": {},
   "outputs": [],
   "source": []
  },
  {
   "cell_type": "code",
   "execution_count": null,
   "id": "c61faae5-e64a-4d43-9719-c119a72e94c3",
   "metadata": {},
   "outputs": [],
   "source": []
  }
 ],
 "metadata": {
  "kernelspec": {
   "display_name": "Python 3 (ipykernel)",
   "language": "python",
   "name": "python3"
  },
  "language_info": {
   "codemirror_mode": {
    "name": "ipython",
    "version": 3
   },
   "file_extension": ".py",
   "mimetype": "text/x-python",
   "name": "python",
   "nbconvert_exporter": "python",
   "pygments_lexer": "ipython3",
   "version": "3.10.1"
  }
 },
 "nbformat": 4,
 "nbformat_minor": 5
}
