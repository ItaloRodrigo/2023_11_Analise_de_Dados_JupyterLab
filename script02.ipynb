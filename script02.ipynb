{
 "cells": [
  {
   "cell_type": "markdown",
   "id": "4d1b7ae3-1f5b-49db-a005-4e5b91fc4bb2",
   "metadata": {},
   "source": [
    "# Sessão 1"
   ]
  },
  {
   "cell_type": "code",
   "execution_count": 5,
   "id": "f49c7649-3840-447d-919c-3d19c9a504ec",
   "metadata": {},
   "outputs": [],
   "source": [
    "nomes = [\"João\", \"Maria\", \"Benício\"]\n",
    "idades = [10, 15, 20]\n",
    "sexo = (\"M\", \"F\", \"O\")"
   ]
  },
  {
   "cell_type": "code",
   "execution_count": 7,
   "id": "339a2d72-e264-4119-963a-82c404f5aed3",
   "metadata": {},
   "outputs": [],
   "source": [
    "cadastro = {\n",
    "    \"nomes\": nomes,\n",
    "    \"idades\": idades,\n",
    "    \"cidade\": [\"a\",\"b\",\"c\"],\n",
    "    \"sexo\": sexo\n",
    "}"
   ]
  },
  {
   "cell_type": "code",
   "execution_count": 8,
   "id": "ec71e331-25b4-4c3e-b5b2-d2b7658a954a",
   "metadata": {},
   "outputs": [
    {
     "data": {
      "text/plain": [
       "'Maria'"
      ]
     },
     "execution_count": 8,
     "metadata": {},
     "output_type": "execute_result"
    }
   ],
   "source": [
    "nomes[1]"
   ]
  },
  {
   "cell_type": "code",
   "execution_count": 9,
   "id": "4db41920-dc38-4733-a071-4816cc94dccf",
   "metadata": {},
   "outputs": [
    {
     "data": {
      "text/plain": [
       "'Benício'"
      ]
     },
     "execution_count": 9,
     "metadata": {},
     "output_type": "execute_result"
    }
   ],
   "source": [
    "nomes[2]"
   ]
  },
  {
   "cell_type": "code",
   "execution_count": 10,
   "id": "c020f96f-3a08-4646-aff1-0d5bd87d0b2a",
   "metadata": {},
   "outputs": [
    {
     "data": {
      "text/plain": [
       "'João'"
      ]
     },
     "execution_count": 10,
     "metadata": {},
     "output_type": "execute_result"
    }
   ],
   "source": [
    "cadastro[\"nomes\"][0]"
   ]
  }
 ],
 "metadata": {
  "kernelspec": {
   "display_name": "Python 3 (ipykernel)",
   "language": "python",
   "name": "python3"
  },
  "language_info": {
   "codemirror_mode": {
    "name": "ipython",
    "version": 3
   },
   "file_extension": ".py",
   "mimetype": "text/x-python",
   "name": "python",
   "nbconvert_exporter": "python",
   "pygments_lexer": "ipython3",
   "version": "3.10.1"
  }
 },
 "nbformat": 4,
 "nbformat_minor": 5
}
